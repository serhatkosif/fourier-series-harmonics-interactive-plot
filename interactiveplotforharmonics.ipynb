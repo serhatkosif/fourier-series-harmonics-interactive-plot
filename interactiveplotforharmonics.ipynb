{
 "cells": [
  {
   "cell_type": "code",
   "execution_count": 65,
   "metadata": {},
   "outputs": [],
   "source": [
    "import numpy as np\n",
    "from ipywidgets import FloatSlider\n",
    "from ipywidgets import interact",
    "import ipywidgets as widgets"
   ]
  },
  {
   "cell_type": "code",
   "execution_count": 66,
   "metadata": {},
   "outputs": [
    {
     "data": {
      "application/vnd.jupyter.widget-view+json": {
       "model_id": "f4b06fa980134a1eafb66e827c92f5a7",
       "version_major": 2,
       "version_minor": 0
      },
      "text/plain": [
       "interactive(children=(FloatSlider(value=0.0, description='a1', max=1.0, min=-1.0), FloatSlider(value=0.0, desc…"
      ]
     },
     "metadata": {},
     "output_type": "display_data"
    }
   ],
   "source": [
    "@widgets.interact(a1=FloatSlider(min=-1, max=1,step=0.1),a2=FloatSlider(min=-1, max=1,step=0.1),a3=FloatSlider(min=-1, max=1,step=0.1),a4=FloatSlider(min=-1, max=1,step=0.1),b1=FloatSlider(min=-1, max=1,step=0.1),b2=FloatSlider(min=-1, max=1,step=0.1),b3=FloatSlider(min=-1, max=1,step=0.1),b4=FloatSlider(min=-1, max=1,step=0.1),w0=FloatSlider(min=0, max=2*np.pi,step=np.pi/4))\n",
    "\n",
    "def plot(a1, a2, a3, a4, b1, b2, b3, b4, w0, grid=True):\n",
    "    t = np.linspace(-1., +1., 1000)\n",
    "    s1 = a1*np.cos(w0*t) + b1*np.sin(w0*t) \n",
    "    s2 = a2*np.cos(2*w0*t) + b2*np.sin(2*w0*t) \n",
    "    s3 = a3*np.cos(3*w0*t) + b3*np.sin(3*w0*t) \n",
    "    s4 = a4*np.cos(4*w0*t) + b4*np.sin(4*w0*t) \n",
    "    s = s1 + s2 + s3 + s4\n",
    "       \n",
    "    fig, ax = plt.subplots(1, 1, figsize=(8, 6))\n",
    "    ax.plot(t, s)\n",
    "    ax.grid(grid)"
   ]
  },
  {
   "cell_type": "code",
   "execution_count": null,
   "metadata": {},
   "outputs": [],
   "source": []
  }
 ],
 "metadata": {
  "kernelspec": {
   "display_name": "Python 3",
   "language": "python",
   "name": "python3"
  },
  "language_info": {
   "codemirror_mode": {
    "name": "ipython",
    "version": 3
   },
   "file_extension": ".py",
   "mimetype": "text/x-python",
   "name": "python",
   "nbconvert_exporter": "python",
   "pygments_lexer": "ipython3",
   "version": "3.7.4"
  }
 },
 "nbformat": 4,
 "nbformat_minor": 2
}
